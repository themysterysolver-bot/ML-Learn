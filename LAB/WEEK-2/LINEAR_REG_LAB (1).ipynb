{
 "cells": [
  {
   "cell_type": "code",
   "execution_count": 1,
   "id": "5b708b8f",
   "metadata": {},
   "outputs": [
    {
     "name": "stdout",
     "output_type": "stream",
     "text": [
      "C:\\Users\\2022503003\n"
     ]
    }
   ],
   "source": [
    "#23.01.25\n",
    "import os\n",
    "print(os.getcwd())"
   ]
  },
  {
   "cell_type": "code",
   "execution_count": 2,
   "id": "6d3a18aa",
   "metadata": {},
   "outputs": [],
   "source": [
    "import pandas as pd\n",
    "import numpy as np"
   ]
  },
  {
   "cell_type": "code",
   "execution_count": 4,
   "id": "de41c100",
   "metadata": {},
   "outputs": [],
   "source": [
    "df=pd.read_excel('LINEAR_REG.xlsx')"
   ]
  },
  {
   "cell_type": "code",
   "execution_count": 5,
   "id": "d6c68706",
   "metadata": {},
   "outputs": [
    {
     "name": "stdout",
     "output_type": "stream",
     "text": [
      "   x   y\n",
      "0  2  69\n",
      "1  9  98\n",
      "2  5  82\n",
      "3  5  77\n",
      "4  3  71\n",
      "5  7  84\n",
      "6  1  55\n",
      "7  8  94\n",
      "8  6  84\n",
      "9  2  64\n"
     ]
    }
   ],
   "source": [
    "print(df)"
   ]
  },
  {
   "cell_type": "code",
   "execution_count": 6,
   "id": "d0004cd4",
   "metadata": {},
   "outputs": [
    {
     "name": "stdout",
     "output_type": "stream",
     "text": [
      "4.8 77.8\n"
     ]
    }
   ],
   "source": [
    "xm,ym=df['x'].mean(),df['y'].mean()\n",
    "print(xm,ym)"
   ]
  },
  {
   "cell_type": "code",
   "execution_count": 7,
   "id": "ce2d4677",
   "metadata": {},
   "outputs": [
    {
     "name": "stdout",
     "output_type": "stream",
     "text": [
      "   x   y  x-xm  y-ym\n",
      "0  2  69  -2.8  -8.8\n",
      "1  9  98   4.2  20.2\n",
      "2  5  82   0.2   4.2\n",
      "3  5  77   0.2  -0.8\n",
      "4  3  71  -1.8  -6.8\n",
      "5  7  84   2.2   6.2\n",
      "6  1  55  -3.8 -22.8\n",
      "7  8  94   3.2  16.2\n",
      "8  6  84   1.2   6.2\n",
      "9  2  64  -2.8 -13.8\n"
     ]
    }
   ],
   "source": [
    "df['x-xm']=df['x']-xm\n",
    "df['y-ym']=df['y']-ym\n",
    "print(df)"
   ]
  },
  {
   "cell_type": "code",
   "execution_count": 8,
   "id": "55e7172c",
   "metadata": {},
   "outputs": [
    {
     "name": "stdout",
     "output_type": "stream",
     "text": [
      "   x   y  x-xm  y-ym  (x-xm)*(y-ym)\n",
      "0  2  69  -2.8  -8.8          24.64\n",
      "1  9  98   4.2  20.2          84.84\n",
      "2  5  82   0.2   4.2           0.84\n",
      "3  5  77   0.2  -0.8          -0.16\n",
      "4  3  71  -1.8  -6.8          12.24\n",
      "5  7  84   2.2   6.2          13.64\n",
      "6  1  55  -3.8 -22.8          86.64\n",
      "7  8  94   3.2  16.2          51.84\n",
      "8  6  84   1.2   6.2           7.44\n",
      "9  2  64  -2.8 -13.8          38.64\n"
     ]
    }
   ],
   "source": [
    "df['(x-xm)*(y-ym)']=df['x-xm']*df['y-ym']\n",
    "print(df)"
   ]
  },
  {
   "cell_type": "code",
   "execution_count": 9,
   "id": "ab920c7b",
   "metadata": {},
   "outputs": [
    {
     "name": "stdout",
     "output_type": "stream",
     "text": [
      "   x   y  x-xm  y-ym  (x-xm)*(y-ym)  (x-xm)**2\n",
      "0  2  69  -2.8  -8.8          24.64       7.84\n",
      "1  9  98   4.2  20.2          84.84      17.64\n",
      "2  5  82   0.2   4.2           0.84       0.04\n",
      "3  5  77   0.2  -0.8          -0.16       0.04\n",
      "4  3  71  -1.8  -6.8          12.24       3.24\n",
      "5  7  84   2.2   6.2          13.64       4.84\n",
      "6  1  55  -3.8 -22.8          86.64      14.44\n",
      "7  8  94   3.2  16.2          51.84      10.24\n",
      "8  6  84   1.2   6.2           7.44       1.44\n",
      "9  2  64  -2.8 -13.8          38.64       7.84\n"
     ]
    }
   ],
   "source": [
    "df['(x-xm)**2']=df['x-xm']**2\n",
    "print(df)"
   ]
  },
  {
   "cell_type": "code",
   "execution_count": 11,
   "id": "4de114ef",
   "metadata": {},
   "outputs": [
    {
     "name": "stdout",
     "output_type": "stream",
     "text": [
      "4.742603550295858\n"
     ]
    }
   ],
   "source": [
    "b=df['(x-xm)*(y-ym)'].sum()/df['(x-xm)**2'].sum()\n",
    "print(b)"
   ]
  },
  {
   "cell_type": "code",
   "execution_count": 12,
   "id": "77f999ac",
   "metadata": {},
   "outputs": [
    {
     "name": "stdout",
     "output_type": "stream",
     "text": [
      "55.03550295857988\n"
     ]
    }
   ],
   "source": [
    "a=ym-b*xm\n",
    "print(a)"
   ]
  },
  {
   "cell_type": "code",
   "execution_count": 13,
   "id": "9f8c50da",
   "metadata": {},
   "outputs": [
    {
     "name": "stdout",
     "output_type": "stream",
     "text": [
      "69.26331360946746\n"
     ]
    }
   ],
   "source": [
    "def linear_model(x):\n",
    "    return b*x+a\n",
    "print(linear_model(3))"
   ]
  },
  {
   "cell_type": "code",
   "execution_count": 14,
   "id": "87143597",
   "metadata": {},
   "outputs": [],
   "source": [
    "df.to_excel('LINEAR_REG_RESULT.xlsx')"
   ]
  },
  {
   "cell_type": "code",
   "execution_count": 30,
   "id": "34e2443e",
   "metadata": {},
   "outputs": [],
   "source": [
    "import matplotlib.pyplot as plt"
   ]
  },
  {
   "cell_type": "code",
   "execution_count": 33,
   "id": "48eae4c7",
   "metadata": {},
   "outputs": [
    {
     "data": {
      "image/png": "[encoded data removed]",
      "text/plain": [
       "<Figure size 640x480 with 1 Axes>"
      ]
     },
     "metadata": {},
     "output_type": "display_data"
    }
   ],
   "source": [
    "plt.scatter(df['x'],df['y'],marker='*',label=f'y={a}+{b}*x')\n",
    "xc=np.linspace(1,9,10)\n",
    "#print(xc)\n",
    "yc=linear_model(xc)\n",
    "#print(yc)\n",
    "plt.plot(xc,yc,color='r')\n",
    "plt.show()"
   ]
  },
  {
   "cell_type": "code",
   "execution_count": null,
   "id": "f21fe122",
   "metadata": {},
   "outputs": [],
   "source": []
  }
 ],
 "metadata": {
  "kernelspec": {
   "display_name": "Python 3 (ipykernel)",
   "language": "python",
   "name": "python3"
  },
  "language_info": {
   "codemirror_mode": {
    "name": "ipython",
    "version": 3
   },
   "file_extension": ".py",
   "mimetype": "text/x-python",
   "name": "python",
   "nbconvert_exporter": "python",
   "pygments_lexer": "ipython3",
   "version": "3.10.9"
  }
 },
 "nbformat": 4,
 "nbformat_minor": 5
}

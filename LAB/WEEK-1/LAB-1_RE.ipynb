{
 "cells": [
  {
   "cell_type": "code",
   "execution_count": 7,
   "id": "c8a2e472-7438-4b99-b0eb-a39ac4534ec5",
   "metadata": {},
   "outputs": [],
   "source": [
    "#6.1.25\n",
    "import numpy as np \n",
    "import pandas as pd"
   ]
  },
  {
   "cell_type": "code",
   "execution_count": 9,
   "id": "9d45eaf4-fef4-4bcc-9561-8740ff5885a7",
   "metadata": {},
   "outputs": [
    {
     "name": "stdout",
     "output_type": "stream",
     "text": [
      "C:\\Users\\DELL\n"
     ]
    }
   ],
   "source": [
    "import os\n",
    "print(os.getcwd())"
   ]
  },
  {
   "cell_type": "code",
   "execution_count": 11,
   "id": "b4cd066d-a1cd-4246-aca2-fa83062acc70",
   "metadata": {},
   "outputs": [],
   "source": [
    "df=pd.DataFrame({\n",
    "    'StudentID': [101, 102, 103, 104, 105, 106, 107],\n",
    "    'Name': ['Alice', 'Bob', 'Charlie', 'Diana', 'Ethan', 'Fiona', 'George'],\n",
    "    'Mathematics': [85, 78, 92, 88, 76, np.nan, 81],\n",
    "    'Science': [89, 74, 95, 91, 80, 88, np.nan],\n",
    "    'History': [90, 85, 87, 93, 82, 84, 89],\n",
    "    'English': [88, np.nan, 90, 85, 78, 82, 77],\n",
    "    'Geography': [92, 81, np.nan, 89, 85, 86, 83]\n",
    "})\n",
    "df.to_excel('Student_record.xlsx',index=False)"
   ]
  },
  {
   "cell_type": "code",
   "execution_count": 15,
   "id": "54778870-2c8b-45cc-813b-62a4263d7bc4",
   "metadata": {},
   "outputs": [],
   "source": [
    "df=pd.read_excel('Student_record.xlsx')"
   ]
  },
  {
   "cell_type": "code",
   "execution_count": 17,
   "id": "9df9c80c-c615-4434-ae6d-f1467c8666c6",
   "metadata": {},
   "outputs": [
    {
     "name": "stdout",
     "output_type": "stream",
     "text": [
      "   StudentID     Name  Mathematics  Science  History  English  Geography\n",
      "0        101    Alice         85.0     89.0       90     88.0       92.0\n",
      "1        102      Bob         78.0     74.0       85      NaN       81.0\n",
      "2        103  Charlie         92.0     95.0       87     90.0        NaN\n",
      "3        104    Diana         88.0     91.0       93     85.0       89.0\n",
      "4        105    Ethan         76.0     80.0       82     78.0       85.0\n",
      "5        106    Fiona          NaN     88.0       84     82.0       86.0\n",
      "6        107   George         81.0      NaN       89     77.0       83.0\n"
     ]
    }
   ],
   "source": [
    "print(df)"
   ]
  },
  {
   "cell_type": "code",
   "execution_count": 19,
   "id": "6ebc28bb-95de-4b27-9e9d-8b3e37c721e2",
   "metadata": {},
   "outputs": [
    {
     "name": "stdout",
     "output_type": "stream",
     "text": [
      "   StudentID     Name  Mathematics  Science  History  English  Geography\n",
      "0        101    Alice         85.0     89.0       90     88.0       92.0\n",
      "1        102      Bob         78.0     74.0       85      0.0       81.0\n",
      "2        103  Charlie         92.0     95.0       87     90.0        0.0\n",
      "3        104    Diana         88.0     91.0       93     85.0       89.0\n",
      "4        105    Ethan         76.0     80.0       82     78.0       85.0\n",
      "5        106    Fiona          0.0     88.0       84     82.0       86.0\n",
      "6        107   George         81.0      0.0       89     77.0       83.0\n"
     ]
    }
   ],
   "source": [
    "df.fillna(0,inplace=True)\n",
    "print(df)"
   ]
  },
  {
   "cell_type": "code",
   "execution_count": 25,
   "id": "c8d51c2f-c9b1-4773-976d-861304d5cf8d",
   "metadata": {},
   "outputs": [
    {
     "name": "stdout",
     "output_type": "stream",
     "text": [
      "   StudentID     Name  Mathematics  Science  History  English  Geography  \\\n",
      "0        101    Alice         85.0     89.0       90     88.0       92.0   \n",
      "1        102      Bob         78.0     74.0       85      0.0       81.0   \n",
      "2        103  Charlie         92.0     95.0       87     90.0        0.0   \n",
      "3        104    Diana         88.0     91.0       93     85.0       89.0   \n",
      "4        105    Ethan         76.0     80.0       82     78.0       85.0   \n",
      "5        106    Fiona          0.0     88.0       84     82.0       86.0   \n",
      "6        107   George         81.0      0.0       89     77.0       83.0   \n",
      "\n",
      "   Total  \n",
      "0  444.0  \n",
      "1  318.0  \n",
      "2  364.0  \n",
      "3  446.0  \n",
      "4  401.0  \n",
      "5  340.0  \n",
      "6  330.0  \n"
     ]
    }
   ],
   "source": [
    "df['Total']=df.iloc[:,2:].sum(axis=1)\n",
    "print(df)"
   ]
  },
  {
   "cell_type": "code",
   "execution_count": 27,
   "id": "ae406750-b8b6-41fa-a3be-099dbce1a8bc",
   "metadata": {},
   "outputs": [
    {
     "name": "stdout",
     "output_type": "stream",
     "text": [
      "   StudentID     Name  Mathematics  Science  History  English  Geography  \\\n",
      "0        101    Alice         85.0     89.0       90     88.0       92.0   \n",
      "1        102      Bob         78.0     74.0       85      0.0       81.0   \n",
      "2        103  Charlie         92.0     95.0       87     90.0        0.0   \n",
      "3        104    Diana         88.0     91.0       93     85.0       89.0   \n",
      "4        105    Ethan         76.0     80.0       82     78.0       85.0   \n",
      "5        106    Fiona          0.0     88.0       84     82.0       86.0   \n",
      "6        107   George         81.0      0.0       89     77.0       83.0   \n",
      "\n",
      "   Total  Average  \n",
      "0  444.0     88.8  \n",
      "1  318.0     63.6  \n",
      "2  364.0     72.8  \n",
      "3  446.0     89.2  \n",
      "4  401.0     80.2  \n",
      "5  340.0     68.0  \n",
      "6  330.0     66.0  \n"
     ]
    }
   ],
   "source": [
    "df['Average']=df.iloc[:,2:-1].mean(axis=1)\n",
    "print(df)"
   ]
  },
  {
   "cell_type": "code",
   "execution_count": 57,
   "id": "bb8ba226-a9b2-47dd-905d-fae3e4005317",
   "metadata": {},
   "outputs": [
    {
     "name": "stdout",
     "output_type": "stream",
     "text": [
      "   StudentID     Name  Mathematics  Science  History  English  Geography  \\\n",
      "0        101    Alice         85.0     89.0       90     88.0       92.0   \n",
      "1        102      Bob         78.0     74.0       85      0.0       81.0   \n",
      "2        103  Charlie         92.0     95.0       87     90.0        0.0   \n",
      "3        104    Diana         88.0     91.0       93     85.0       89.0   \n",
      "4        105    Ethan         76.0     80.0       82     78.0       85.0   \n",
      "5        106    Fiona          0.0     88.0       84     82.0       86.0   \n",
      "6        107   George         81.0      0.0       89     77.0       83.0   \n",
      "\n",
      "   Total  Average  Normalised Total Mathematics grade Science grade  \\\n",
      "0  444.0     88.8          0.984375                A+            A+   \n",
      "1  318.0     63.6          0.000000                 A             A   \n",
      "2  364.0     72.8          0.359375                 A             A   \n",
      "3  446.0     89.2          1.000000                A+             A   \n",
      "4  401.0     80.2          0.648438                 A            A+   \n",
      "5  340.0     68.0          0.171875                 F            A+   \n",
      "6  330.0     66.0          0.093750                A+             F   \n",
      "\n",
      "  History grade English grade Geography grade Total grade Average grade  \\\n",
      "0             A            A+               A           A            A+   \n",
      "1            A+             F              A+           A            B+   \n",
      "2            A+             A               F           A             A   \n",
      "3             A            A+              A+           A            A+   \n",
      "4            A+             A              A+           A            A+   \n",
      "5            A+            A+              A+           A            B+   \n",
      "6            A+             A              A+           A            B+   \n",
      "\n",
      "  Normalised Total grade  \n",
      "0                      F  \n",
      "1                      F  \n",
      "2                      F  \n",
      "3                      F  \n",
      "4                      F  \n",
      "5                      F  \n",
      "6                      F  \n"
     ]
    }
   ],
   "source": [
    "minval=df['Total'].min()\n",
    "maxval=df['Total'].max()\n",
    "df['Normalised Total']=(df['Total']-minval)/(maxval-minval)\n",
    "print(df)"
   ]
  },
  {
   "cell_type": "code",
   "execution_count": 71,
   "id": "b62126ae-6b9b-4627-a632-ae2f1c718d86",
   "metadata": {},
   "outputs": [
    {
     "name": "stdout",
     "output_type": "stream",
     "text": [
      "   StudentID     Name  Mathematics  Science  History  English  Geography  \\\n",
      "0        101    Alice         85.0     89.0       90     88.0       92.0   \n",
      "1        102      Bob         78.0     74.0       85      0.0       81.0   \n",
      "2        103  Charlie         92.0     95.0       87     90.0        0.0   \n",
      "3        104    Diana         88.0     91.0       93     85.0       89.0   \n",
      "4        105    Ethan         76.0     80.0       82     78.0       85.0   \n",
      "5        106    Fiona          0.0     88.0       84     82.0       86.0   \n",
      "6        107   George         81.0      0.0       89     77.0       83.0   \n",
      "\n",
      "   Total  Average  Normalised Total StudentID grade Mathematics grade  \\\n",
      "0  444.0     88.8          0.984375               A                A+   \n",
      "1  318.0     63.6          0.000000               A                 A   \n",
      "2  364.0     72.8          0.359375               A                 A   \n",
      "3  446.0     89.2          1.000000               A                A+   \n",
      "4  401.0     80.2          0.648438               A                 A   \n",
      "5  340.0     68.0          0.171875               A                 F   \n",
      "6  330.0     66.0          0.093750               A                A+   \n",
      "\n",
      "  Science grade History grade English grade Geography grade Total grade  \n",
      "0            A+             A            A+               A           A  \n",
      "1             A            A+             F              A+           A  \n",
      "2             A            A+             A               F           A  \n",
      "3             A             A            A+              A+           A  \n",
      "4            A+            A+             A              A+           A  \n",
      "5            A+            A+            A+              A+           A  \n",
      "6             F            A+             A              A+           A  \n"
     ]
    }
   ],
   "source": [
    "#df=df.iloc[:,:-1]\n",
    "def grade(nums):\n",
    "    num=float(nums)\n",
    "    if num>=90:\n",
    "        return 'A'\n",
    "    elif num>=80:\n",
    "        return 'A+'\n",
    "    elif num>=70:\n",
    "        return 'A'\n",
    "    elif num>=60:\n",
    "        return 'B+'\n",
    "    elif num>=50:\n",
    "        return 'B'\n",
    "    else:\n",
    "        return 'F'\n",
    "for subject in df.columns[2:-3]:\n",
    "    df[subject+' grade']=df[subject].apply(grade)\n",
    "print(df)"
   ]
  },
  {
   "cell_type": "code",
   "execution_count": 85,
   "id": "68885d51-8023-4565-af1c-570cf95a8b40",
   "metadata": {},
   "outputs": [
    {
     "name": "stdout",
     "output_type": "stream",
     "text": [
      "Index(['StudentID', 'Name', 'Mathematics', 'Science', 'History', 'English',\n",
      "       'Geography', 'Total', 'Average', 'Normalised Total', 'StudentID grade',\n",
      "       'Mathematics grade', 'Science grade', 'History grade', 'English grade',\n",
      "       'Geography grade', 'Total grade'],\n",
      "      dtype='object')\n",
      "   StudentID     Name  Mathematics  Science  History  English  Geography  \\\n",
      "0        101    Alice         85.0     89.0       90     88.0       92.0   \n",
      "1        102      Bob         78.0     74.0       85      0.0       81.0   \n",
      "2        103  Charlie         92.0     95.0       87     90.0        0.0   \n",
      "3        104    Diana         88.0     91.0       93     85.0       89.0   \n",
      "4        105    Ethan         76.0     80.0       82     78.0       85.0   \n",
      "5        106    Fiona          0.0     88.0       84     82.0       86.0   \n",
      "6        107   George         81.0      0.0       89     77.0       83.0   \n",
      "\n",
      "   Total  Average  Normalised Total Mathematics grade Science grade  \\\n",
      "0  444.0     88.8          0.984375                A+            A+   \n",
      "1  318.0     63.6          0.000000                 A             A   \n",
      "2  364.0     72.8          0.359375                 A             A   \n",
      "3  446.0     89.2          1.000000                A+             A   \n",
      "4  401.0     80.2          0.648438                 A            A+   \n",
      "5  340.0     68.0          0.171875                 F            A+   \n",
      "6  330.0     66.0          0.093750                A+             F   \n",
      "\n",
      "  History grade English grade Geography grade Total grade  \n",
      "0             A            A+               A           A  \n",
      "1            A+             F              A+           A  \n",
      "2            A+             A               F           A  \n",
      "3             A            A+              A+           A  \n",
      "4            A+             A              A+           A  \n",
      "5            A+            A+              A+           A  \n",
      "6            A+             A              A+           A  \n"
     ]
    }
   ],
   "source": [
    "print(df.columns)\n",
    "df.drop('StudentID grade',axis=1,inplace=True)\n",
    "print(df)"
   ]
  },
  {
   "cell_type": "code",
   "execution_count": 87,
   "id": "17d1063a-6d8b-4614-822c-52b3d409e638",
   "metadata": {},
   "outputs": [
    {
     "data": {
      "text/plain": [
       "Index(['Mathematics', 'Science', 'History', 'English', 'Geography'], dtype='object')"
      ]
     },
     "execution_count": 87,
     "metadata": {},
     "output_type": "execute_result"
    }
   ],
   "source": [
    "df.columns[2:-9]"
   ]
  },
  {
   "cell_type": "code",
   "execution_count": 93,
   "id": "084efe85-eb8c-482a-879a-6abdf7a171c6",
   "metadata": {},
   "outputs": [
    {
     "data": {
      "text/plain": [
       "<Axes: title={'center': 'Students Stats'}, xlabel='Name'>"
      ]
     },
     "execution_count": 93,
     "metadata": {},
     "output_type": "execute_result"
    },
    {
     "data": {
      "image/png": "[encoded data removed]",
      "text/plain": [
       "<Figure size 640x480 with 1 Axes>"
      ]
     },
     "metadata": {},
     "output_type": "display_data"
    }
   ],
   "source": [
    "colors=['#FF5733', '#33FF57', '#3357FF', '#FF33A1', '#FFC300']\n",
    "df.plot(x='Name',y=['Mathematics', 'Science', 'History', 'English', 'Geography'],color=colors,kind='bar',title='Students Stats')"
   ]
  },
  {
   "cell_type": "code",
   "execution_count": null,
   "id": "e7b176c6-66a2-4d18-adb1-5bc95a872997",
   "metadata": {},
   "outputs": [],
   "source": []
  }
 ],
 "metadata": {
  "kernelspec": {
   "display_name": "Python [conda env:base] *",
   "language": "python",
   "name": "conda-base-py"
  },
  "language_info": {
   "codemirror_mode": {
    "name": "ipython",
    "version": 3
   },
   "file_extension": ".py",
   "mimetype": "text/x-python",
   "name": "python",
   "nbconvert_exporter": "python",
   "pygments_lexer": "ipython3",
   "version": "3.12.7"
  }
 },
 "nbformat": 4,
 "nbformat_minor": 5
}

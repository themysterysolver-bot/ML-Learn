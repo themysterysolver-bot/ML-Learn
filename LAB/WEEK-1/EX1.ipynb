{
 "cells": [
  {
   "cell_type": "code",
   "execution_count": 3,
   "id": "acde8a3e",
   "metadata": {},
   "outputs": [
    {
     "name": "stdout",
     "output_type": "stream",
     "text": [
      "hello\n"
     ]
    }
   ],
   "source": [
    "print('hello')"
   ]
  },
  {
   "cell_type": "code",
   "execution_count": 5,
   "id": "20460d8c",
   "metadata": {},
   "outputs": [],
   "source": [
    "import pandas as pd"
   ]
  },
  {
   "cell_type": "code",
   "execution_count": 57,
   "id": "1769539e",
   "metadata": {
    "scrolled": true
   },
   "outputs": [
    {
     "name": "stdout",
     "output_type": "stream",
     "text": [
      "0      NaN\n",
      "1    100.0\n",
      "2     90.0\n",
      "3     80.0\n",
      "4     97.0\n",
      "5    100.0\n",
      "Name: Py, dtype: float64\n"
     ]
    },
    {
     "data": {
      "text/plain": [
       "C      NaN\n",
       "Py     NaN\n",
       "JAVA   NaN\n",
       "GO     NaN\n",
       "HCJ    NaN\n",
       "Name: 0, dtype: float64"
      ]
     },
     "execution_count": 57,
     "metadata": {},
     "output_type": "execute_result"
    }
   ],
   "source": [
    "df=pd.read_excel('Z:\\sem 7\\ML\\Excel1.xlsx')\n",
    "print(df['Py'])\n",
    "df.loc[0]"
   ]
  },
  {
   "cell_type": "code",
   "execution_count": 62,
   "id": "5a8b6ab0",
   "metadata": {
    "scrolled": true
   },
   "outputs": [
    {
     "data": {
      "text/plain": [
       "Index(['C', 'Py', 'JAVA', 'GO', 'HCJ'], dtype='object')"
      ]
     },
     "execution_count": 62,
     "metadata": {},
     "output_type": "execute_result"
    }
   ],
   "source": [
    "df.columns\n"
   ]
  },
  {
   "cell_type": "code",
   "execution_count": 76,
   "id": "afb07075",
   "metadata": {},
   "outputs": [
    {
     "name": "stdout",
     "output_type": "stream",
     "text": [
      "       C     Py   JAVA     GO    HCJ\n",
      "1   99.0  100.0   80.0   80.0   89.0\n",
      "2   89.0   90.0   91.0   96.0  100.0\n",
      "3  100.0   80.0  100.0  100.0  100.0\n",
      "4   90.0   97.0   87.0   75.0   75.0\n",
      "5   75.0  100.0   98.0   90.0   80.0\n",
      "1    89.6\n",
      "2    93.2\n",
      "3    96.0\n",
      "4    84.8\n",
      "5    88.6\n",
      "dtype: float64\n"
     ]
    }
   ],
   "source": [
    "d=df.loc[1:,:]\n",
    "print(d)\n",
    "total=d.mean(axis=1)\n",
    "print(total)"
   ]
  },
  {
   "cell_type": "code",
   "execution_count": 80,
   "id": "b07e4634",
   "metadata": {},
   "outputs": [
    {
     "name": "stdout",
     "output_type": "stream",
     "text": [
      "       C     Py   JAVA     GO    HCJ  Total  Average\n",
      "1   99.0  100.0   80.0   80.0   89.0   89.6     89.6\n",
      "2   89.0   90.0   91.0   96.0  100.0   93.2     93.2\n",
      "3  100.0   80.0  100.0  100.0  100.0   96.0     96.0\n",
      "4   90.0   97.0   87.0   75.0   75.0   84.8     84.8\n",
      "5   75.0  100.0   98.0   90.0   80.0   88.6     88.6\n"
     ]
    },
    {
     "name": "stderr",
     "output_type": "stream",
     "text": [
      "C:\\Users\\2022503003\\AppData\\Local\\Temp\\ipykernel_8180\\3395825959.py:1: SettingWithCopyWarning: \n",
      "A value is trying to be set on a copy of a slice from a DataFrame.\n",
      "Try using .loc[row_indexer,col_indexer] = value instead\n",
      "\n",
      "See the caveats in the documentation: https://pandas.pydata.org/pandas-docs/stable/user_guide/indexing.html#returning-a-view-versus-a-copy\n",
      "  d.loc[:,'Average']=total\n"
     ]
    }
   ],
   "source": [
    "d.loc[:,'Average']=total\n",
    "print(d)"
   ]
  },
  {
   "cell_type": "code",
   "execution_count": 81,
   "id": "b197d9a7",
   "metadata": {},
   "outputs": [],
   "source": [
    "d.to_excel('Z:\\sem 7\\ML\\ExcelOP1.xlsx',index=False)"
   ]
  },
  {
   "cell_type": "code",
   "execution_count": 82,
   "id": "b7741e44",
   "metadata": {},
   "outputs": [
    {
     "name": "stdout",
     "output_type": "stream",
     "text": [
      "       C     Py   JAVA     GO    HCJ  Total  Average\n",
      "1   99.0  100.0   80.0   80.0   89.0   89.6     89.6\n",
      "2   89.0   90.0   91.0   96.0  100.0   93.2     93.2\n",
      "3  100.0   80.0  100.0  100.0  100.0   96.0     96.0\n",
      "4   90.0   97.0   87.0   75.0   75.0   84.8     84.8\n",
      "5   75.0  100.0   98.0   90.0   80.0   88.6     88.6\n"
     ]
    }
   ],
   "source": [
    "print(d)"
   ]
  },
  {
   "cell_type": "code",
   "execution_count": 87,
   "id": "884ea8d2",
   "metadata": {},
   "outputs": [
    {
     "name": "stderr",
     "output_type": "stream",
     "text": [
      "C:\\Users\\2022503003\\AppData\\Local\\Temp\\ipykernel_8180\\1583613049.py:1: SettingWithCopyWarning: \n",
      "A value is trying to be set on a copy of a slice from a DataFrame.\n",
      "Try using .loc[row_indexer,col_indexer] = value instead\n",
      "\n",
      "See the caveats in the documentation: https://pandas.pydata.org/pandas-docs/stable/user_guide/indexing.html#returning-a-view-versus-a-copy\n",
      "  d['Average']=(d['Average']-d['Average'].min())/(d['Average'].max()-d['Average'].min())\n"
     ]
    }
   ],
   "source": [
    "d['Average']=(d['Average']-d['Average'].min())/(d['Average'].max()-d['Average'].min())"
   ]
  },
  {
   "cell_type": "code",
   "execution_count": 88,
   "id": "b6020bb6",
   "metadata": {},
   "outputs": [
    {
     "name": "stdout",
     "output_type": "stream",
     "text": [
      "       C     Py   JAVA     GO    HCJ  Total   Average\n",
      "1   99.0  100.0   80.0   80.0   89.0   89.6  0.428571\n",
      "2   89.0   90.0   91.0   96.0  100.0   93.2  0.750000\n",
      "3  100.0   80.0  100.0  100.0  100.0   96.0  1.000000\n",
      "4   90.0   97.0   87.0   75.0   75.0   84.8  0.000000\n",
      "5   75.0  100.0   98.0   90.0   80.0   88.6  0.339286\n"
     ]
    }
   ],
   "source": [
    "print(d)"
   ]
  },
  {
   "cell_type": "code",
   "execution_count": 89,
   "id": "1b0ef3ff",
   "metadata": {},
   "outputs": [
    {
     "name": "stderr",
     "output_type": "stream",
     "text": [
      "C:\\Users\\2022503003\\AppData\\Local\\Temp\\ipykernel_8180\\2336267370.py:1: SettingWithCopyWarning: \n",
      "A value is trying to be set on a copy of a slice from a DataFrame.\n",
      "Try using .loc[row_indexer,col_indexer] = value instead\n",
      "\n",
      "See the caveats in the documentation: https://pandas.pydata.org/pandas-docs/stable/user_guide/indexing.html#returning-a-view-versus-a-copy\n",
      "  d.loc[:,'Name']=[\"A\",\"B\",\"C\",\"D\",\"E\"]\n"
     ]
    }
   ],
   "source": [
    "d.loc[:,'Name']=[\"A\",\"B\",\"C\",\"D\",\"E\"]"
   ]
  },
  {
   "cell_type": "code",
   "execution_count": 90,
   "id": "b75c1fdd",
   "metadata": {},
   "outputs": [
    {
     "name": "stdout",
     "output_type": "stream",
     "text": [
      "       C     Py   JAVA     GO    HCJ  Total   Average Name\n",
      "1   99.0  100.0   80.0   80.0   89.0   89.6  0.428571    A\n",
      "2   89.0   90.0   91.0   96.0  100.0   93.2  0.750000    B\n",
      "3  100.0   80.0  100.0  100.0  100.0   96.0  1.000000    C\n",
      "4   90.0   97.0   87.0   75.0   75.0   84.8  0.000000    D\n",
      "5   75.0  100.0   98.0   90.0   80.0   88.6  0.339286    E\n"
     ]
    }
   ],
   "source": [
    "print(d)"
   ]
  },
  {
   "cell_type": "code",
   "execution_count": 96,
   "id": "1e5cda0a",
   "metadata": {},
   "outputs": [
    {
     "data": {
      "text/plain": [
       "Index(['C', 'Py', 'JAVA', 'GO', 'HCJ'], dtype='object')"
      ]
     },
     "execution_count": 96,
     "metadata": {},
     "output_type": "execute_result"
    }
   ],
   "source": [
    "d.columns"
   ]
  },
  {
   "cell_type": "code",
   "execution_count": 102,
   "id": "bddded80",
   "metadata": {},
   "outputs": [
    {
     "data": {
      "text/plain": [
       "<Axes: xlabel='Name'>"
      ]
     },
     "execution_count": 102,
     "metadata": {},
     "output_type": "execute_result"
    },
    {
     "data": {
      "image/png": "[encoded data removed]",
      "text/plain": [
       "<Figure size 640x480 with 1 Axes>"
      ]
     },
     "metadata": {},
     "output_type": "display_data"
    }
   ],
   "source": [
    "d.plot(x='Name', y=[\"C\", \"Py\", \"JAVA\", \"GO\", \"HCJ\"], color=[\"red\", \"blue\", \"black\", \"green\", \"yellow\"], kind='bar')"
   ]
  },
  {
   "cell_type": "code",
   "execution_count": 109,
   "id": "4f1527fb",
   "metadata": {},
   "outputs": [],
   "source": [
    "d=d.drop('Total',axis=1)"
   ]
  },
  {
   "cell_type": "code",
   "execution_count": 105,
   "id": "b5654492",
   "metadata": {},
   "outputs": [
    {
     "name": "stderr",
     "output_type": "stream",
     "text": [
      "C:\\Users\\2022503003\\AppData\\Local\\Temp\\ipykernel_8180\\3621216050.py:1: SettingWithCopyWarning: \n",
      "A value is trying to be set on a copy of a slice from a DataFrame.\n",
      "Try using .loc[row_indexer,col_indexer] = value instead\n",
      "\n",
      "See the caveats in the documentation: https://pandas.pydata.org/pandas-docs/stable/user_guide/indexing.html#returning-a-view-versus-a-copy\n",
      "  d['Name'],d['C']=d['C'],d['Name']\n"
     ]
    }
   ],
   "source": [
    "d['Name'],d['C']=d['C'],d['Name']"
   ]
  },
  {
   "cell_type": "code",
   "execution_count": 110,
   "id": "606d4a37",
   "metadata": {},
   "outputs": [
    {
     "name": "stdout",
     "output_type": "stream",
     "text": [
      "   C     Py   JAVA     GO    HCJ   Average   Name\n",
      "1  A  100.0   80.0   80.0   89.0  0.428571   99.0\n",
      "2  B   90.0   91.0   96.0  100.0  0.750000   89.0\n",
      "3  C   80.0  100.0  100.0  100.0  1.000000  100.0\n",
      "4  D   97.0   87.0   75.0   75.0  0.000000   90.0\n",
      "5  E  100.0   98.0   90.0   80.0  0.339286   75.0\n"
     ]
    }
   ],
   "source": [
    "print(d)"
   ]
  },
  {
   "cell_type": "code",
   "execution_count": 112,
   "id": "3d3f3178",
   "metadata": {},
   "outputs": [
    {
     "data": {
      "text/html": [
       "<div>\n",
       "<style scoped>\n",
       "    .dataframe tbody tr th:only-of-type {\n",
       "        vertical-align: middle;\n",
       "    }\n",
       "\n",
       "    .dataframe tbody tr th {\n",
       "        vertical-align: top;\n",
       "    }\n",
       "\n",
       "    .dataframe thead th {\n",
       "        text-align: right;\n",
       "    }\n",
       "</style>\n",
       "<table border=\"1\" class=\"dataframe\">\n",
       "  <thead>\n",
       "    <tr style=\"text-align: right;\">\n",
       "      <th></th>\n",
       "      <th>Name</th>\n",
       "      <th>Py</th>\n",
       "      <th>JAVA</th>\n",
       "      <th>GO</th>\n",
       "      <th>HCJ</th>\n",
       "      <th>Average</th>\n",
       "      <th>C</th>\n",
       "    </tr>\n",
       "  </thead>\n",
       "  <tbody>\n",
       "    <tr>\n",
       "      <th>1</th>\n",
       "      <td>A</td>\n",
       "      <td>100.0</td>\n",
       "      <td>80.0</td>\n",
       "      <td>80.0</td>\n",
       "      <td>89.0</td>\n",
       "      <td>0.428571</td>\n",
       "      <td>99.0</td>\n",
       "    </tr>\n",
       "    <tr>\n",
       "      <th>2</th>\n",
       "      <td>B</td>\n",
       "      <td>90.0</td>\n",
       "      <td>91.0</td>\n",
       "      <td>96.0</td>\n",
       "      <td>100.0</td>\n",
       "      <td>0.750000</td>\n",
       "      <td>89.0</td>\n",
       "    </tr>\n",
       "    <tr>\n",
       "      <th>3</th>\n",
       "      <td>C</td>\n",
       "      <td>80.0</td>\n",
       "      <td>100.0</td>\n",
       "      <td>100.0</td>\n",
       "      <td>100.0</td>\n",
       "      <td>1.000000</td>\n",
       "      <td>100.0</td>\n",
       "    </tr>\n",
       "    <tr>\n",
       "      <th>4</th>\n",
       "      <td>D</td>\n",
       "      <td>97.0</td>\n",
       "      <td>87.0</td>\n",
       "      <td>75.0</td>\n",
       "      <td>75.0</td>\n",
       "      <td>0.000000</td>\n",
       "      <td>90.0</td>\n",
       "    </tr>\n",
       "    <tr>\n",
       "      <th>5</th>\n",
       "      <td>E</td>\n",
       "      <td>100.0</td>\n",
       "      <td>98.0</td>\n",
       "      <td>90.0</td>\n",
       "      <td>80.0</td>\n",
       "      <td>0.339286</td>\n",
       "      <td>75.0</td>\n",
       "    </tr>\n",
       "  </tbody>\n",
       "</table>\n",
       "</div>"
      ],
      "text/plain": [
       "  Name     Py   JAVA     GO    HCJ   Average      C\n",
       "1    A  100.0   80.0   80.0   89.0  0.428571   99.0\n",
       "2    B   90.0   91.0   96.0  100.0  0.750000   89.0\n",
       "3    C   80.0  100.0  100.0  100.0  1.000000  100.0\n",
       "4    D   97.0   87.0   75.0   75.0  0.000000   90.0\n",
       "5    E  100.0   98.0   90.0   80.0  0.339286   75.0"
      ]
     },
     "execution_count": 112,
     "metadata": {},
     "output_type": "execute_result"
    }
   ],
   "source": [
    "d.rename(columns={'C':'Name','Name':'C'})"
   ]
  },
  {
   "cell_type": "code",
   "execution_count": 118,
   "id": "c346d858",
   "metadata": {},
   "outputs": [
    {
     "name": "stdout",
     "output_type": "stream",
     "text": [
      "   C     Py   JAVA     GO    HCJ   Average   Name    avg\n",
      "1  A  100.0   80.0   80.0   89.0  0.428571   99.0  349.0\n",
      "2  B   90.0   91.0   96.0  100.0  0.750000   89.0  377.0\n",
      "3  C   80.0  100.0  100.0  100.0  1.000000  100.0  380.0\n",
      "4  D   97.0   87.0   75.0   75.0  0.000000   90.0  334.0\n",
      "5  E  100.0   98.0   90.0   80.0  0.339286   75.0  368.0\n"
     ]
    }
   ],
   "source": [
    "d.loc[:,'avg']=d[['Py','JAVA','GO','HCJ']].sum(axis=1)\n",
    "print(d)"
   ]
  },
  {
   "cell_type": "code",
   "execution_count": 119,
   "id": "b3cbfae9",
   "metadata": {},
   "outputs": [
    {
     "data": {
      "text/html": [
       "<div>\n",
       "<style scoped>\n",
       "    .dataframe tbody tr th:only-of-type {\n",
       "        vertical-align: middle;\n",
       "    }\n",
       "\n",
       "    .dataframe tbody tr th {\n",
       "        vertical-align: top;\n",
       "    }\n",
       "\n",
       "    .dataframe thead th {\n",
       "        text-align: right;\n",
       "    }\n",
       "</style>\n",
       "<table border=\"1\" class=\"dataframe\">\n",
       "  <thead>\n",
       "    <tr style=\"text-align: right;\">\n",
       "      <th></th>\n",
       "      <th>C</th>\n",
       "      <th>Py</th>\n",
       "      <th>JAVA</th>\n",
       "      <th>GO</th>\n",
       "      <th>HCJ</th>\n",
       "      <th>Average</th>\n",
       "      <th>Name</th>\n",
       "      <th>Total</th>\n",
       "    </tr>\n",
       "  </thead>\n",
       "  <tbody>\n",
       "    <tr>\n",
       "      <th>1</th>\n",
       "      <td>A</td>\n",
       "      <td>100.0</td>\n",
       "      <td>80.0</td>\n",
       "      <td>80.0</td>\n",
       "      <td>89.0</td>\n",
       "      <td>0.428571</td>\n",
       "      <td>99.0</td>\n",
       "      <td>349.0</td>\n",
       "    </tr>\n",
       "    <tr>\n",
       "      <th>2</th>\n",
       "      <td>B</td>\n",
       "      <td>90.0</td>\n",
       "      <td>91.0</td>\n",
       "      <td>96.0</td>\n",
       "      <td>100.0</td>\n",
       "      <td>0.750000</td>\n",
       "      <td>89.0</td>\n",
       "      <td>377.0</td>\n",
       "    </tr>\n",
       "    <tr>\n",
       "      <th>3</th>\n",
       "      <td>C</td>\n",
       "      <td>80.0</td>\n",
       "      <td>100.0</td>\n",
       "      <td>100.0</td>\n",
       "      <td>100.0</td>\n",
       "      <td>1.000000</td>\n",
       "      <td>100.0</td>\n",
       "      <td>380.0</td>\n",
       "    </tr>\n",
       "    <tr>\n",
       "      <th>4</th>\n",
       "      <td>D</td>\n",
       "      <td>97.0</td>\n",
       "      <td>87.0</td>\n",
       "      <td>75.0</td>\n",
       "      <td>75.0</td>\n",
       "      <td>0.000000</td>\n",
       "      <td>90.0</td>\n",
       "      <td>334.0</td>\n",
       "    </tr>\n",
       "    <tr>\n",
       "      <th>5</th>\n",
       "      <td>E</td>\n",
       "      <td>100.0</td>\n",
       "      <td>98.0</td>\n",
       "      <td>90.0</td>\n",
       "      <td>80.0</td>\n",
       "      <td>0.339286</td>\n",
       "      <td>75.0</td>\n",
       "      <td>368.0</td>\n",
       "    </tr>\n",
       "  </tbody>\n",
       "</table>\n",
       "</div>"
      ],
      "text/plain": [
       "   C     Py   JAVA     GO    HCJ   Average   Name  Total\n",
       "1  A  100.0   80.0   80.0   89.0  0.428571   99.0  349.0\n",
       "2  B   90.0   91.0   96.0  100.0  0.750000   89.0  377.0\n",
       "3  C   80.0  100.0  100.0  100.0  1.000000  100.0  380.0\n",
       "4  D   97.0   87.0   75.0   75.0  0.000000   90.0  334.0\n",
       "5  E  100.0   98.0   90.0   80.0  0.339286   75.0  368.0"
      ]
     },
     "execution_count": 119,
     "metadata": {},
     "output_type": "execute_result"
    }
   ],
   "source": [
    "d.rename(columns={'avg':'Total'})"
   ]
  },
  {
   "cell_type": "code",
   "execution_count": 120,
   "id": "fb51e577",
   "metadata": {},
   "outputs": [
    {
     "data": {
      "text/plain": [
       "<Axes: xlabel='Name'>"
      ]
     },
     "execution_count": 120,
     "metadata": {},
     "output_type": "execute_result"
    },
    {
     "data": {
      "image/png": "[encoded data removed]",
      "text/plain": [
       "<Figure size 640x480 with 1 Axes>"
      ]
     },
     "metadata": {},
     "output_type": "display_data"
    }
   ],
   "source": [
    "d.plot(x='Name', y=[\"C\", \"Py\", \"JAVA\", \"GO\", \"HCJ\"], color=[\"red\", \"blue\", \"black\", \"green\", \"yellow\"], kind='bar')"
   ]
  },
  {
   "cell_type": "code",
   "execution_count": null,
   "id": "0318bb9e",
   "metadata": {},
   "outputs": [],
   "source": []
  }
 ],
 "metadata": {
  "kernelspec": {
   "display_name": "Python 3 (ipykernel)",
   "language": "python",
   "name": "python3"
  },
  "language_info": {
   "codemirror_mode": {
    "name": "ipython",
    "version": 3
   },
   "file_extension": ".py",
   "mimetype": "text/x-python",
   "name": "python",
   "nbconvert_exporter": "python",
   "pygments_lexer": "ipython3",
   "version": "3.10.9"
  }
 },
 "nbformat": 4,
 "nbformat_minor": 5
}

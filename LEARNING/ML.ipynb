{
  "nbformat": 4,
  "nbformat_minor": 0,
  "metadata": {
    "colab": {
      "provenance": [],
      "authorship_tag": "ABX9TyNdV2h+9GW28S9FCREbJBed",
      "include_colab_link": true
    },
    "kernelspec": {
      "name": "python3",
      "display_name": "Python 3"
    },
    "language_info": {
      "name": "python"
    }
  },
  "cells": [
    {
      "cell_type": "markdown",
      "metadata": {
        "id": "view-in-github",
        "colab_type": "text"
      },
      "source": [
        "<a href=\"https://colab.research.google.com/github/themysterysolver/ML-Learn/blob/main/LEARNING/ML.ipynb\" target=\"_parent\"><img src=\"https://colab.research.google.com/assets/colab-badge.svg\" alt=\"Open In Colab\"/></a>"
      ]
    },
    {
      "cell_type": "markdown",
      "source": [
        "## MACHINE LEARNING~"
      ],
      "metadata": {
        "id": "TQ2ZCtnpVYbw"
      }
    },
    {
      "cell_type": "markdown",
      "source": [
        "-  ***Data set*** is any collection of data.\n",
        "- We can split the data types into three main categories:\n",
        "  - Numerical->discrente,continious\n",
        "  - Categorical->data are values that cannot be measured up against each other.\n",
        "  - Ordinal-> data are like categorical data, but can be measured up against each other.\n",
        "---\n",
        "\n",
        "- Mean - The average value\n",
        "- Median - The mid point value\n",
        "- Mode - The most common value\n"
      ],
      "metadata": {
        "id": "nxay3SlLXTNN"
      }
    },
    {
      "cell_type": "code",
      "source": [
        "import numpy as np\n",
        "from scipy import stats\n",
        "import matplotlib.pyplot as plt"
      ],
      "metadata": {
        "id": "0uSwsZINY3_w"
      },
      "execution_count": 4,
      "outputs": []
    },
    {
      "cell_type": "markdown",
      "source": [
        "- pandas: Data manipulation and analysis.\n",
        "- numpy: Numerical computations.\n",
        "- scipy: Advanced mathematical and scientific calculations.\n",
        "## Visualization:\n",
        "- matplotlib: Data visualization.\n",
        "- seaborn: Statistical data visualization.\n",
        "## Machine Learning and AI:\n",
        "- scikit-learn: Machine learning algorithms.\n",
        "- tensorflow: Deep learning framework"
      ],
      "metadata": {
        "id": "-4gHIhcocjGf"
      }
    },
    {
      "cell_type": "markdown",
      "source": [
        "Mean,Median,mode"
      ],
      "metadata": {
        "id": "cMthfhBieLc0"
      }
    },
    {
      "cell_type": "code",
      "execution_count": null,
      "metadata": {
        "id": "s28Aa11lVOID",
        "colab": {
          "base_uri": "https://localhost:8080/"
        },
        "outputId": "3bfa2217-f1ad-46c2-dc95-d415389b8c71"
      },
      "outputs": [
        {
          "output_type": "stream",
          "name": "stdout",
          "text": [
            "89.76923076923077 87.0 ModeResult(mode=86, count=3)\n"
          ]
        }
      ],
      "source": [
        "speed=[99,86,87,88,111,86,103,87,94,78,77,85,86]\n",
        "mean=np.mean(speed)\n",
        "median=np.median(speed)#sorted all the values\n",
        "mode=stats.mode(speed)\n",
        "print(mean,median,mode)"
      ]
    },
    {
      "cell_type": "markdown",
      "source": [
        "## Standard deviation,varaiance\n",
        "- `Standard deviation` is a number that describes how spread out the values are.\n",
        "- standard deviation(sigma) is the square root of the variance($sigma^2$).\n",
        "- `variance` is the average of the squared difference from the mean.\n",
        "1.   Find the mean\n",
        "2.   Difference in mean with all values\n",
        "3.   Sq them all\n",
        "4.  Take average\n"
      ],
      "metadata": {
        "id": "QDDAlDo6eRaD"
      }
    },
    {
      "cell_type": "code",
      "source": [
        "standard=np.std(speed)\n",
        "varaiance=np.var(speed)\n",
        "print('Most of the values are within the range of (standard deviation)',standard,' from the  mean value, which is ',mean,'varaince',varaiance)"
      ],
      "metadata": {
        "colab": {
          "base_uri": "https://localhost:8080/"
        },
        "id": "9v6MPDt2dTwT",
        "outputId": "4276581e-49ac-4517-9c30-ab54c593f60a"
      },
      "execution_count": null,
      "outputs": [
        {
          "output_type": "stream",
          "name": "stdout",
          "text": [
            "Most of the values are within the range of (standard deviation) 9.258292301032677  from the  mean value, which is  89.76923076923077 varaince 85.71597633136093\n"
          ]
        }
      ]
    },
    {
      "cell_type": "markdown",
      "source": [
        "## Percentile\n",
        "Percentiles are used in statistics to give you a number that describes the value that a given percent of the values are lower than."
      ],
      "metadata": {
        "id": "T4lEzAcvnscT"
      }
    },
    {
      "cell_type": "code",
      "source": [
        "ages=[5,31,43,48,50,41,7,11,15,39,80,82,32,2,8,6,25,36,27,61,31]\n",
        "print(np.percentile(ages,75)) # 75% people are \"43 or younger\""
      ],
      "metadata": {
        "id": "qPGPbJ6AdYQz",
        "colab": {
          "base_uri": "https://localhost:8080/"
        },
        "outputId": "d775049c-d589-42d5-ddbb-18b206ab7f50"
      },
      "execution_count": 3,
      "outputs": [
        {
          "output_type": "stream",
          "name": "stdout",
          "text": [
            "43.0\n"
          ]
        }
      ]
    },
    {
      "cell_type": "markdown",
      "source": [
        "#### Data Distribution\n",
        "- unifrom distribution.\n",
        "```\n",
        "numpy.random.uniform(low=0.0, high=1.0, size=None)\n",
        "```\n",
        "- Returns:ndarray or scalar\n",
        "- To create big data sets for testing."
      ],
      "metadata": {
        "id": "LQkf_T1iokei"
      }
    },
    {
      "cell_type": "markdown",
      "source": [
        "- In the context of a histogram, `bins` are ***intervals (or ranges)*** into which the data points are grouped. Each bin represents a portion of the data's range, and the histogram shows the count (or frequency) of data points that fall into each bin.\n"
      ],
      "metadata": {
        "id": "1bB4y4LEtO5L"
      }
    },
    {
      "cell_type": "code",
      "source": [
        "uniformRandom=np.random.uniform(1,10,250)\n",
        "#print(uniformRandom)\n",
        "plt.hist(uniformRandom,15)\n",
        "plt.show()\n",
        "plt.hist(uniformRandom,5)\n",
        "plt.show()"
      ],
      "metadata": {
        "colab": {
          "base_uri": "https://localhost:8080/",
          "height": 845
        },
        "id": "FQlq6sOSthUg",
        "outputId": "160d474e-587e-48f3-c554-fcd8c486c2b0"
      },
      "execution_count": 14,
      "outputs": [
        {
          "output_type": "display_data",
          "data": {
            "text/plain": [
              "<Figure size 640x480 with 1 Axes>"
            ],
            "image/png": "[encoded data removed]"
          },
          "metadata": {}
        },
        {
          "output_type": "display_data",
          "data": {
            "text/plain": [
              "<Figure size 640x480 with 1 Axes>"
            ],
            "image/png": "[encoded data removed]"
          },
          "metadata": {}
        }
      ]
    },
    {
      "cell_type": "code",
      "source": [],
      "metadata": {
        "id": "2g_mhKIqtc_c"
      },
      "execution_count": null,
      "outputs": []
    },
    {
      "cell_type": "code",
      "source": [],
      "metadata": {
        "id": "X3uD_nHTsOR9"
      },
      "execution_count": null,
      "outputs": []
    }
  ]
}
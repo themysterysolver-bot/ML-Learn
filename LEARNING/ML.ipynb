{
  "nbformat": 4,
  "nbformat_minor": 0,
  "metadata": {
    "colab": {
      "provenance": [],
      "authorship_tag": "ABX9TyMJppaWHWbzTDBuJmFUgpXL",
      "include_colab_link": true
    },
    "kernelspec": {
      "name": "python3",
      "display_name": "Python 3"
    },
    "language_info": {
      "name": "python"
    }
  },
  "cells": [
    {
      "cell_type": "markdown",
      "metadata": {
        "id": "view-in-github",
        "colab_type": "text"
      },
      "source": [
        "<a href=\"https://colab.research.google.com/github/themysterysolver/ML-Learn/blob/main/LEARNING/ML.ipynb\" target=\"_parent\"><img src=\"https://colab.research.google.com/assets/colab-badge.svg\" alt=\"Open In Colab\"/></a>"
      ]
    },
    {
      "cell_type": "markdown",
      "source": [
        "## MACHINE LEARNING~"
      ],
      "metadata": {
        "id": "TQ2ZCtnpVYbw"
      }
    },
    {
      "cell_type": "markdown",
      "source": [
        "-  ***Data set*** is any collection of data.\n",
        "- We can split the data types into three main categories:\n",
        "  - Numerical->discrente,continious\n",
        "  - Categorical->data are values that cannot be measured up against each other.\n",
        "  - Ordinal-> data are like categorical data, but can be measured up against each other.\n",
        "---\n",
        "\n",
        "- Mean - The average value\n",
        "- Median - The mid point value\n",
        "- Mode - The most common value\n"
      ],
      "metadata": {
        "id": "nxay3SlLXTNN"
      }
    },
    {
      "cell_type": "code",
      "source": [
        "import numpy as np\n",
        "from scipy import stats"
      ],
      "metadata": {
        "id": "0uSwsZINY3_w"
      },
      "execution_count": 5,
      "outputs": []
    },
    {
      "cell_type": "markdown",
      "source": [
        "- pandas: Data manipulation and analysis.\n",
        "- numpy: Numerical computations.\n",
        "- scipy: Advanced mathematical and scientific calculations.\n",
        "## Visualization:\n",
        "- matplotlib: Data visualization.\n",
        "- seaborn: Statistical data visualization.\n",
        "## Machine Learning and AI:\n",
        "- scikit-learn: Machine learning algorithms.\n",
        "- tensorflow: Deep learning framework"
      ],
      "metadata": {
        "id": "-4gHIhcocjGf"
      }
    },
    {
      "cell_type": "markdown",
      "source": [
        "Mean,Median,mode"
      ],
      "metadata": {
        "id": "cMthfhBieLc0"
      }
    },
    {
      "cell_type": "code",
      "execution_count": 6,
      "metadata": {
        "id": "s28Aa11lVOID",
        "colab": {
          "base_uri": "https://localhost:8080/"
        },
        "outputId": "3bfa2217-f1ad-46c2-dc95-d415389b8c71"
      },
      "outputs": [
        {
          "output_type": "stream",
          "name": "stdout",
          "text": [
            "89.76923076923077 87.0 ModeResult(mode=86, count=3)\n"
          ]
        }
      ],
      "source": [
        "speed=[99,86,87,88,111,86,103,87,94,78,77,85,86]\n",
        "mean=np.mean(speed)\n",
        "median=np.median(speed)#sorted all the values\n",
        "mode=stats.mode(speed)\n",
        "print(mean,median,mode)"
      ]
    },
    {
      "cell_type": "markdown",
      "source": [
        "## Standard deviation,varaiance\n",
        "- Standard deviation is a number that describes how spread out the values are.\n",
        "- standard deviation(sigma) is the square root of the variance($sigma^2$).\n",
        "1.   Find the mean\n",
        "2.   Difference in mean with all values\n",
        "3.   Sq them all\n",
        "4.  Take average\n"
      ],
      "metadata": {
        "id": "QDDAlDo6eRaD"
      }
    },
    {
      "cell_type": "code",
      "source": [
        "standard=np.std(speed)\n",
        "varaiance=np.var(speed)\n",
        "print('Most of the values are within the range of (standard deviation)',standard,' from the  mean value, which is ',mean,'varaince',varaiance)"
      ],
      "metadata": {
        "colab": {
          "base_uri": "https://localhost:8080/"
        },
        "id": "9v6MPDt2dTwT",
        "outputId": "4276581e-49ac-4517-9c30-ab54c593f60a"
      },
      "execution_count": 10,
      "outputs": [
        {
          "output_type": "stream",
          "name": "stdout",
          "text": [
            "Most of the values are within the range of (standard deviation) 9.258292301032677  from the  mean value, which is  89.76923076923077 varaince 85.71597633136093\n"
          ]
        }
      ]
    },
    {
      "cell_type": "code",
      "source": [],
      "metadata": {
        "id": "qPGPbJ6AdYQz"
      },
      "execution_count": null,
      "outputs": []
    }
  ]
}
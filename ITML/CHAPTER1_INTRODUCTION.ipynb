{
  "nbformat": 4,
  "nbformat_minor": 0,
  "metadata": {
    "colab": {
      "provenance": [],
      "authorship_tag": "ABX9TyM5emdJS/CS8o5d3ws9xU7a",
      "include_colab_link": true
    },
    "kernelspec": {
      "name": "python3",
      "display_name": "Python 3"
    },
    "language_info": {
      "name": "python"
    }
  },
  "cells": [
    {
      "cell_type": "markdown",
      "metadata": {
        "id": "view-in-github",
        "colab_type": "text"
      },
      "source": [
        "<a href=\"https://colab.research.google.com/github/themysterysolver/ML-Learn/blob/main/ITML/CHAPTER1_INTRODUCTION.ipynb\" target=\"_parent\"><img src=\"https://colab.research.google.com/assets/colab-badge.svg\" alt=\"Open In Colab\"/></a>"
      ]
    },
    {
      "cell_type": "code",
      "source": [
        "import numpy as np"
      ],
      "metadata": {
        "id": "qS0503TcRdcQ"
      },
      "execution_count": 3,
      "outputs": []
    },
    {
      "cell_type": "markdown",
      "source": [
        "The `.format()` method in Python is used to format strings by replacing placeholders (denoted by {}) with specified values."
      ],
      "metadata": {
        "id": "SF12rH75RxK9"
      }
    },
    {
      "cell_type": "code",
      "execution_count": 5,
      "metadata": {
        "colab": {
          "base_uri": "https://localhost:8080/"
        },
        "id": "qd8p3pxERXjx",
        "outputId": "f0cee30f-8022-44a8-eaf4-15ae8e8f8da6"
      },
      "outputs": [
        {
          "output_type": "stream",
          "name": "stdout",
          "text": [
            "x:\n",
            "[[1 2 3]\n",
            " [4 5 6]]\n"
          ]
        }
      ],
      "source": [
        "x = np.array([[1, 2, 3], [4, 5, 6]])\n",
        "print(\"x:\\n{}\".format(x))"
      ]
    },
    {
      "cell_type": "code",
      "source": [],
      "metadata": {
        "id": "o4VeNUWsRfAp"
      },
      "execution_count": null,
      "outputs": []
    }
  ]
}
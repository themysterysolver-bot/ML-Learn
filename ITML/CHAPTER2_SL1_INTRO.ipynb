{
  "nbformat": 4,
  "nbformat_minor": 0,
  "metadata": {
    "colab": {
      "provenance": [],
      "authorship_tag": "ABX9TyPjoloxLsSxmvOwq0BEs3lV",
      "include_colab_link": true
    },
    "kernelspec": {
      "name": "python3",
      "display_name": "Python 3"
    },
    "language_info": {
      "name": "python"
    }
  },
  "cells": [
    {
      "cell_type": "markdown",
      "metadata": {
        "id": "view-in-github",
        "colab_type": "text"
      },
      "source": [
        "<a href=\"https://colab.research.google.com/github/themysterysolver/ML-Learn/blob/main/ITML/CHAPTER2_SL1_INTRO.ipynb\" target=\"_parent\"><img src=\"https://colab.research.google.com/assets/colab-badge.svg\" alt=\"Open In Colab\"/></a>"
      ]
    },
    {
      "cell_type": "markdown",
      "source": [
        "## Supervised Learning"
      ],
      "metadata": {
        "id": "lND7NX6h0MR4"
      }
    },
    {
      "cell_type": "markdown",
      "source": [
        "### Classification and Regression\n",
        " - There are two major types of supervised machine learning problems, called *classification* and *regression*.\n",
        " - In `classification`, the goal is to predict a ***class*** *label*, which is a choice from a predefined list of possibilities.\n",
        "  - Binary(yes/no)\n",
        "  - Multiclass\n",
        "\n",
        "> In `binary classification` we often speak of one class being the ***posi\n",
        "tive class*** and the other class being the ***negative class***. Here, positive\n",
        " doesn’t represent having benefit or value, but rather what the object\n",
        " of the study is. So, when looking for spam, “positive” could mean\n",
        " the spam class. Which of the two classes is called positive is often a\n",
        " subjective matter, and specific to the domain\n",
        "\n",
        "> Multiple class **Eg:lang detection**\n",
        "\n",
        "- For `regression` tasks, the goal is to predict a continuous number, or a floating-point\n",
        " number in programming terms (or real number in mathematical terms).\n",
        "---\n",
        "- An easy way to distinguish between classification and regression tasks is to ask\n",
        " whether *there is some kind of continuity* in the output. If there is continuity between\n",
        " possible outcomes, then the problem is a ***regression problem***.\n",
        "\n",
        " ### Generalization, Overfitting, and Underfitting\n",
        "\n",
        "\n"
      ],
      "metadata": {
        "id": "EeFpDBJgVy69"
      }
    },
    {
      "cell_type": "code",
      "execution_count": null,
      "metadata": {
        "id": "T1rZMpiG0EX2"
      },
      "outputs": [],
      "source": []
    }
  ]
}
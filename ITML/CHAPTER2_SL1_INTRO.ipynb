{
  "nbformat": 4,
  "nbformat_minor": 0,
  "metadata": {
    "colab": {
      "provenance": [],
      "authorship_tag": "ABX9TyMSOH3+KI/UPAM/+QoXjret",
      "include_colab_link": true
    },
    "kernelspec": {
      "name": "python3",
      "display_name": "Python 3"
    },
    "language_info": {
      "name": "python"
    }
  },
  "cells": [
    {
      "cell_type": "markdown",
      "metadata": {
        "id": "view-in-github",
        "colab_type": "text"
      },
      "source": [
        "<a href=\"https://colab.research.google.com/github/themysterysolver/ML-Learn/blob/main/ITML/CHAPTER2_SL1_INTRO.ipynb\" target=\"_parent\"><img src=\"https://colab.research.google.com/assets/colab-badge.svg\" alt=\"Open In Colab\"/></a>"
      ]
    },
    {
      "cell_type": "markdown",
      "source": [
        "## Supervised Learning"
      ],
      "metadata": {
        "id": "lND7NX6h0MR4"
      }
    },
    {
      "cell_type": "markdown",
      "source": [
        "### Classification and Regression\n",
        " - There are two major types of supervised machine learning problems, called *classification* and *regression*.\n",
        " - In `classification`, the goal is to predict a ***class*** *label*, which is a choice from a predefined list of possibilities.\n",
        "  - Binary(yes/no)\n",
        "  - Multiclass\n",
        "\n",
        "> In `binary classification` we often speak of one class being the ***posi\n",
        "tive class*** and the other class being the ***negative class***. Here, positive\n",
        " doesn’t represent having benefit or value, but rather what the object\n",
        " of the study is. So, when looking for spam, “positive” could mean\n",
        " the spam class. Which of the two classes is called positive is often a\n",
        " subjective matter, and specific to the domain\n",
        "\n",
        "> Multiple class **Eg:lang detection**\n",
        "\n",
        "- For `regression` tasks, the goal is to predict a continuous number, or a floating-point\n",
        " number in programming terms (or real number in mathematical terms).\n",
        "---\n",
        "- An easy way to distinguish between classification and regression tasks is to ask\n",
        " whether *there is some kind of continuity* in the output. If there is continuity between\n",
        " possible outcomes, then the problem is a ***regression problem***.\n",
        "\n",
        " ### Generalization, Overfitting, and Underfitting\n",
        "\n",
        "- **GOAL:** In supervised learning, we want to build a model on the training data and then be\n",
        " able to make accurate predictions on new, unseen data that has the same characteris\n",
        "tics as the training set that we used.\n",
        "  -  If a model is able to make accurate predictions on\n",
        " unseen data, we say it is able to ***generalize*** from the training set to the test set.\n",
        "- If the training and test sets have enough in common, we expect the\n",
        " model to also be accurate on the test set. \" However, there are some cases where this\n",
        " can go wrong \". For example, if we allow ourselves to build very complex models, we\n",
        " can always be as accurate as we like on the training set.\n",
        "- ***Overfitting***\n",
        " occurs when you fit a model too closely to the particularities of the training set and\n",
        " obtain a model that works well on the training set but is not able to generalize to new\n",
        " data.\n",
        "- Choosing\n",
        " too *simple a model* is called ***underfitting***\n",
        "\n",
        ">The more complex we allow our model to be, the better we will be able to predict on\n",
        " the training data. However, if our model becomes too complex, we start focusing too\n",
        " much on each individual data point in our training set, and the model will not gener\n",
        "alize well to new data.\n",
        "\n",
        "> There is a sweet spot in between that will yield the best generalization performance.\n",
        " This is the model we want to find.\n",
        "\n",
        "- Larger variety of data points your data\n",
        "set contains, the more complex a model you can use without overfitting. Usually, col\n",
        "lecting more data points will yield more variety, so larger datasets allow building\n",
        " more complex models."
      ],
      "metadata": {
        "id": "EeFpDBJgVy69"
      }
    },
    {
      "cell_type": "markdown",
      "source": [
        "- **NOTE** :Datasets that are included in scikit-learn are usually stored as\n",
        " Bunch objects, which contain some information about the dataset\n",
        " as well as the actual data. All you need to know about Bunch objects\n",
        " is that they behave like dictionaries, with the added benefit that you\n",
        " can access values using a dot (as in bunch.key instead of\n",
        " bunch['key'])."
      ],
      "metadata": {
        "id": "orq2f7I8cZxB"
      }
    },
    {
      "cell_type": "markdown",
      "source": [
        "### DATASETS THAT WE WILL USE"
      ],
      "metadata": {
        "id": "Ee-pbh9RgOUl"
      }
    },
    {
      "cell_type": "code",
      "execution_count": 2,
      "metadata": {
        "id": "T1rZMpiG0EX2",
        "colab": {
          "base_uri": "https://localhost:8080/"
        },
        "outputId": "d06b368e-704d-4b25-fefb-df8ac8663fea"
      },
      "outputs": [
        {
          "output_type": "execute_result",
          "data": {
            "text/plain": [
              "dict_keys(['data', 'target', 'frame', 'target_names', 'DESCR', 'feature_names', 'filename', 'data_module'])"
            ]
          },
          "metadata": {},
          "execution_count": 2
        }
      ],
      "source": [
        "from sklearn.datasets import load_breast_cancer\n",
        "cancer=load_breast_cancer()\n",
        "cancer.keys()"
      ]
    },
    {
      "cell_type": "code",
      "source": [
        "print(cancer.target,cancer.target_names,cancer.target.shape)"
      ],
      "metadata": {
        "colab": {
          "base_uri": "https://localhost:8080/"
        },
        "id": "qPS-KYIwgidJ",
        "outputId": "9653da93-e0b0-4896-aa26-cf8d80470aea"
      },
      "execution_count": 5,
      "outputs": [
        {
          "output_type": "stream",
          "name": "stdout",
          "text": [
            "[0 0 0 0 0 0 0 0 0 0 0 0 0 0 0 0 0 0 0 1 1 1 0 0 0 0 0 0 0 0 0 0 0 0 0 0 0\n",
            " 1 0 0 0 0 0 0 0 0 1 0 1 1 1 1 1 0 0 1 0 0 1 1 1 1 0 1 0 0 1 1 1 1 0 1 0 0\n",
            " 1 0 1 0 0 1 1 1 0 0 1 0 0 0 1 1 1 0 1 1 0 0 1 1 1 0 0 1 1 1 1 0 1 1 0 1 1\n",
            " 1 1 1 1 1 1 0 0 0 1 0 0 1 1 1 0 0 1 0 1 0 0 1 0 0 1 1 0 1 1 0 1 1 1 1 0 1\n",
            " 1 1 1 1 1 1 1 1 0 1 1 1 1 0 0 1 0 1 1 0 0 1 1 0 0 1 1 1 1 0 1 1 0 0 0 1 0\n",
            " 1 0 1 1 1 0 1 1 0 0 1 0 0 0 0 1 0 0 0 1 0 1 0 1 1 0 1 0 0 0 0 1 1 0 0 1 1\n",
            " 1 0 1 1 1 1 1 0 0 1 1 0 1 1 0 0 1 0 1 1 1 1 0 1 1 1 1 1 0 1 0 0 0 0 0 0 0\n",
            " 0 0 0 0 0 0 0 1 1 1 1 1 1 0 1 0 1 1 0 1 1 0 1 0 0 1 1 1 1 1 1 1 1 1 1 1 1\n",
            " 1 0 1 1 0 1 0 1 1 1 1 1 1 1 1 1 1 1 1 1 1 0 1 1 1 0 1 0 1 1 1 1 0 0 0 1 1\n",
            " 1 1 0 1 0 1 0 1 1 1 0 1 1 1 1 1 1 1 0 0 0 1 1 1 1 1 1 1 1 1 1 1 0 0 1 0 0\n",
            " 0 1 0 0 1 1 1 1 1 0 1 1 1 1 1 0 1 1 1 0 1 1 0 0 1 1 1 1 1 1 0 1 1 1 1 1 1\n",
            " 1 0 1 1 1 1 1 0 1 1 0 1 1 1 1 1 1 1 1 1 1 1 1 0 1 0 0 1 0 1 1 1 1 1 0 1 1\n",
            " 0 1 0 1 1 0 1 0 1 1 1 1 1 1 1 1 0 0 1 1 1 1 1 1 0 1 1 1 1 1 1 1 1 1 1 0 1\n",
            " 1 1 1 1 1 1 0 1 0 1 1 0 1 1 1 1 1 0 0 1 0 1 0 1 1 1 1 1 0 1 1 0 1 0 1 0 0\n",
            " 1 1 1 0 1 1 1 1 1 1 1 1 1 1 1 0 1 0 0 1 1 1 1 1 1 1 1 1 1 1 1 1 1 1 1 1 1\n",
            " 1 1 1 1 1 1 1 0 0 0 0 0 0 1] ['malignant' 'benign'] (569,)\n"
          ]
        }
      ]
    },
    {
      "cell_type": "code",
      "source": [
        "print(cancer.feature_names,len(cancer.feature_names))"
      ],
      "metadata": {
        "colab": {
          "base_uri": "https://localhost:8080/"
        },
        "id": "8K3rmfiRhFlP",
        "outputId": "073afcc6-64e8-45b6-b794-e5e9ffad904a"
      },
      "execution_count": 8,
      "outputs": [
        {
          "output_type": "stream",
          "name": "stdout",
          "text": [
            "['mean radius' 'mean texture' 'mean perimeter' 'mean area'\n",
            " 'mean smoothness' 'mean compactness' 'mean concavity'\n",
            " 'mean concave points' 'mean symmetry' 'mean fractal dimension'\n",
            " 'radius error' 'texture error' 'perimeter error' 'area error'\n",
            " 'smoothness error' 'compactness error' 'concavity error'\n",
            " 'concave points error' 'symmetry error' 'fractal dimension error'\n",
            " 'worst radius' 'worst texture' 'worst perimeter' 'worst area'\n",
            " 'worst smoothness' 'worst compactness' 'worst concavity'\n",
            " 'worst concave points' 'worst symmetry' 'worst fractal dimension'] 30\n"
          ]
        }
      ]
    },
    {
      "cell_type": "code",
      "source": [
        "'''from sklearn.datasets import load_boston\n",
        "boston=load_boston()\n",
        "print(boston.keys())'''\n",
        "#deprecated"
      ],
      "metadata": {
        "colab": {
          "base_uri": "https://localhost:8080/",
          "height": 35
        },
        "id": "PqDWnjzChWsL",
        "outputId": "aeef6c8a-0971-4aab-9883-51ed5c8b823b"
      },
      "execution_count": 11,
      "outputs": [
        {
          "output_type": "execute_result",
          "data": {
            "text/plain": [
              "'from sklearn.datasets import load_boston\\nboston=load_boston()\\nprint(boston.keys())'"
            ],
            "application/vnd.google.colaboratory.intrinsic+json": {
              "type": "string"
            }
          },
          "metadata": {},
          "execution_count": 11
        }
      ]
    },
    {
      "cell_type": "markdown",
      "source": [
        "-  But also looking at all products\n",
        " (also called ***interactions***) between features.\n",
        " - This is called ***feature engineering***"
      ],
      "metadata": {
        "id": "y2JNJgtTid2E"
      }
    },
    {
      "cell_type": "code",
      "source": [
        "!pip install mglearn"
      ],
      "metadata": {
        "colab": {
          "base_uri": "https://localhost:8080/"
        },
        "id": "enkhYUNzh0vg",
        "outputId": "93dad768-ec0f-4dda-9d6a-f4e26a766ed4"
      },
      "execution_count": 13,
      "outputs": [
        {
          "output_type": "stream",
          "name": "stdout",
          "text": [
            "Collecting mglearn\n",
            "  Downloading mglearn-0.2.0-py2.py3-none-any.whl.metadata (628 bytes)\n",
            "Requirement already satisfied: numpy in /usr/local/lib/python3.11/dist-packages (from mglearn) (1.26.4)\n",
            "Requirement already satisfied: matplotlib in /usr/local/lib/python3.11/dist-packages (from mglearn) (3.10.0)\n",
            "Requirement already satisfied: scikit-learn in /usr/local/lib/python3.11/dist-packages (from mglearn) (1.6.0)\n",
            "Requirement already satisfied: pandas in /usr/local/lib/python3.11/dist-packages (from mglearn) (2.2.2)\n",
            "Requirement already satisfied: pillow in /usr/local/lib/python3.11/dist-packages (from mglearn) (11.1.0)\n",
            "Requirement already satisfied: cycler in /usr/local/lib/python3.11/dist-packages (from mglearn) (0.12.1)\n",
            "Requirement already satisfied: imageio in /usr/local/lib/python3.11/dist-packages (from mglearn) (2.36.1)\n",
            "Requirement already satisfied: joblib in /usr/local/lib/python3.11/dist-packages (from mglearn) (1.4.2)\n",
            "Requirement already satisfied: contourpy>=1.0.1 in /usr/local/lib/python3.11/dist-packages (from matplotlib->mglearn) (1.3.1)\n",
            "Requirement already satisfied: fonttools>=4.22.0 in /usr/local/lib/python3.11/dist-packages (from matplotlib->mglearn) (4.55.3)\n",
            "Requirement already satisfied: kiwisolver>=1.3.1 in /usr/local/lib/python3.11/dist-packages (from matplotlib->mglearn) (1.4.8)\n",
            "Requirement already satisfied: packaging>=20.0 in /usr/local/lib/python3.11/dist-packages (from matplotlib->mglearn) (24.2)\n",
            "Requirement already satisfied: pyparsing>=2.3.1 in /usr/local/lib/python3.11/dist-packages (from matplotlib->mglearn) (3.2.1)\n",
            "Requirement already satisfied: python-dateutil>=2.7 in /usr/local/lib/python3.11/dist-packages (from matplotlib->mglearn) (2.8.2)\n",
            "Requirement already satisfied: pytz>=2020.1 in /usr/local/lib/python3.11/dist-packages (from pandas->mglearn) (2024.2)\n",
            "Requirement already satisfied: tzdata>=2022.7 in /usr/local/lib/python3.11/dist-packages (from pandas->mglearn) (2024.2)\n",
            "Requirement already satisfied: scipy>=1.6.0 in /usr/local/lib/python3.11/dist-packages (from scikit-learn->mglearn) (1.13.1)\n",
            "Requirement already satisfied: threadpoolctl>=3.1.0 in /usr/local/lib/python3.11/dist-packages (from scikit-learn->mglearn) (3.5.0)\n",
            "Requirement already satisfied: six>=1.5 in /usr/local/lib/python3.11/dist-packages (from python-dateutil>=2.7->matplotlib->mglearn) (1.17.0)\n",
            "Downloading mglearn-0.2.0-py2.py3-none-any.whl (581 kB)\n",
            "\u001b[2K   \u001b[90m━━━━━━━━━━━━━━━━━━━━━━━━━━━━━━━━━━━━━━━━\u001b[0m \u001b[32m581.4/581.4 kB\u001b[0m \u001b[31m8.0 MB/s\u001b[0m eta \u001b[36m0:00:00\u001b[0m\n",
            "\u001b[?25hInstalling collected packages: mglearn\n",
            "Successfully installed mglearn-0.2.0\n"
          ]
        }
      ]
    },
    {
      "cell_type": "code",
      "source": [
        "import mglearn"
      ],
      "metadata": {
        "id": "6zK4qVQditsp"
      },
      "execution_count": 15,
      "outputs": []
    },
    {
      "cell_type": "markdown",
      "source": [
        "### 2-class classification FORGE\n",
        "- 2features\n",
        "- 26Data points"
      ],
      "metadata": {
        "id": "wn5RImXsjYhP"
      }
    },
    {
      "cell_type": "code",
      "source": [
        "X,y=mglearn.datasets.make_forge()\n",
        "print(X,y)"
      ],
      "metadata": {
        "colab": {
          "base_uri": "https://localhost:8080/"
        },
        "id": "6Kn7tFgYjKNS",
        "outputId": "b985b9a9-f43d-4b45-f00a-a5517cb03b54"
      },
      "execution_count": 16,
      "outputs": [
        {
          "output_type": "stream",
          "name": "stdout",
          "text": [
            "[[ 9.96346605  4.59676542]\n",
            " [11.0329545  -0.16816717]\n",
            " [11.54155807  5.21116083]\n",
            " [ 8.69289001  1.54322016]\n",
            " [ 8.1062269   4.28695977]\n",
            " [ 8.30988863  4.80623966]\n",
            " [11.93027136  4.64866327]\n",
            " [ 9.67284681 -0.20283165]\n",
            " [ 8.34810316  5.13415623]\n",
            " [ 8.67494727  4.47573059]\n",
            " [ 9.17748385  5.09283177]\n",
            " [10.24028948  2.45544401]\n",
            " [ 8.68937095  1.48709629]\n",
            " [ 8.92229526 -0.63993225]\n",
            " [ 9.49123469  4.33224792]\n",
            " [ 9.25694192  5.13284858]\n",
            " [ 7.99815287  4.8525051 ]\n",
            " [ 8.18378052  1.29564214]\n",
            " [ 8.7337095   2.49162431]\n",
            " [ 9.32298256  5.09840649]\n",
            " [10.06393839  0.99078055]\n",
            " [ 9.50048972 -0.26430318]\n",
            " [ 8.34468785  1.63824349]\n",
            " [ 9.50169345  1.93824624]\n",
            " [ 9.15072323  5.49832246]\n",
            " [11.563957    1.3389402 ]] [1 0 1 0 0 1 1 0 1 1 1 1 0 0 1 1 1 0 0 1 0 0 0 0 1 0]\n"
          ]
        }
      ]
    },
    {
      "cell_type": "markdown",
      "source": [
        "### Regression algorithms\n",
        "\n",
        "- wave dataset\n",
        "- The wave\n",
        " dataset has a single input feature and a continuous target variable (or response) that\n",
        " we want to model"
      ],
      "metadata": {
        "id": "K6rV4w9nkMA_"
      }
    },
    {
      "cell_type": "code",
      "source": [
        "import matplotlib.pyplot as plt"
      ],
      "metadata": {
        "id": "SmebEa66kj3b"
      },
      "execution_count": 18,
      "outputs": []
    },
    {
      "cell_type": "code",
      "source": [
        "X,y=mglearn.datasets.make_wave(n_samples=40)\n",
        "print(len(X),len(y))"
      ],
      "metadata": {
        "colab": {
          "base_uri": "https://localhost:8080/"
        },
        "id": "NgeG6hibkLW7",
        "outputId": "1a60cbf4-171f-46e8-acf1-de4beb7b3fb3"
      },
      "execution_count": 20,
      "outputs": [
        {
          "output_type": "stream",
          "name": "stdout",
          "text": [
            "40 40\n"
          ]
        }
      ]
    },
    {
      "cell_type": "code",
      "source": [
        "plt.plot(X,y,'o')\n",
        "plt.ylim(-3,3)#set yaxis limits\n",
        "plt.xlabel(\"Feature\")\n",
        "plt.ylabel(\"Target\")"
      ],
      "metadata": {
        "colab": {
          "base_uri": "https://localhost:8080/",
          "height": 472
        },
        "id": "aSgyQldEjxCE",
        "outputId": "ee1928f8-12b5-46a4-9d90-2eeae2b2311f"
      },
      "execution_count": 23,
      "outputs": [
        {
          "output_type": "execute_result",
          "data": {
            "text/plain": [
              "Text(0, 0.5, 'Target')"
            ]
          },
          "metadata": {},
          "execution_count": 23
        },
        {
          "output_type": "display_data",
          "data": {
            "text/plain": [
              "<Figure size 640x480 with 1 Axes>"
            ],
            "image/png": "[encoded data removed]"
          },
          "metadata": {}
        }
      ]
    },
    {
      "cell_type": "markdown",
      "source": [
        "### Boston dataset\n",
        "- 13 measurements as input features"
      ],
      "metadata": {
        "id": "R2hJMVrplvqg"
      }
    },
    {
      "cell_type": "code",
      "source": [
        "X,y=mglearn.datasets.load_extended_boston()\n",
        "print(X.shape,y.shape)"
      ],
      "metadata": {
        "colab": {
          "base_uri": "https://localhost:8080/"
        },
        "id": "nwdmI03AkuDc",
        "outputId": "87796b8d-c592-42f8-8463-6eed00bfd2f1"
      },
      "execution_count": 25,
      "outputs": [
        {
          "output_type": "stream",
          "name": "stdout",
          "text": [
            "(506, 104) (506,)\n"
          ]
        }
      ]
    },
    {
      "cell_type": "code",
      "source": [],
      "metadata": {
        "id": "-dTU5-uzmC_6"
      },
      "execution_count": null,
      "outputs": []
    }
  ]
}
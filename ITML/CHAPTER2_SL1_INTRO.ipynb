{
  "nbformat": 4,
  "nbformat_minor": 0,
  "metadata": {
    "colab": {
      "provenance": [],
      "authorship_tag": "ABX9TyPNA4gR2kfX2BnFwId4laLO",
      "include_colab_link": true
    },
    "kernelspec": {
      "name": "python3",
      "display_name": "Python 3"
    },
    "language_info": {
      "name": "python"
    }
  },
  "cells": [
    {
      "cell_type": "markdown",
      "metadata": {
        "id": "view-in-github",
        "colab_type": "text"
      },
      "source": [
        "<a href=\"https://colab.research.google.com/github/themysterysolver/ML-Learn/blob/main/ITML/CHAPTER2_SL1_INTRO.ipynb\" target=\"_parent\"><img src=\"https://colab.research.google.com/assets/colab-badge.svg\" alt=\"Open In Colab\"/></a>"
      ]
    },
    {
      "cell_type": "markdown",
      "source": [
        "## Supervised Learning"
      ],
      "metadata": {
        "id": "lND7NX6h0MR4"
      }
    },
    {
      "cell_type": "markdown",
      "source": [
        "### Classification and Regression\n",
        " - There are two major types of supervised machine learning problems, called *classification* and *regression*.\n",
        " - In `classification`, the goal is to predict a ***class*** *label*, which is a choice from a predefined list of possibilities.\n",
        "  - Binary(yes/no)\n",
        "  - Multiclass\n",
        "\n",
        "> In `binary classification` we often speak of one class being the ***posi\n",
        "tive class*** and the other class being the ***negative class***. Here, positive\n",
        " doesn’t represent having benefit or value, but rather what the object\n",
        " of the study is. So, when looking for spam, “positive” could mean\n",
        " the spam class. Which of the two classes is called positive is often a\n",
        " subjective matter, and specific to the domain\n",
        "\n",
        "> Multiple class **Eg:lang detection**\n",
        "\n",
        "- For `regression` tasks, the goal is to predict a continuous number, or a floating-point\n",
        " number in programming terms (or real number in mathematical terms).\n",
        "---\n",
        "- An easy way to distinguish between classification and regression tasks is to ask\n",
        " whether *there is some kind of continuity* in the output. If there is continuity between\n",
        " possible outcomes, then the problem is a ***regression problem***.\n",
        "\n",
        " ### Generalization, Overfitting, and Underfitting\n",
        "\n",
        "- **GOAL:** In supervised learning, we want to build a model on the training data and then be\n",
        " able to make accurate predictions on new, unseen data that has the same characteris\n",
        "tics as the training set that we used.\n",
        "  -  If a model is able to make accurate predictions on\n",
        " unseen data, we say it is able to ***generalize*** from the training set to the test set.\n",
        "- If the training and test sets have enough in common, we expect the\n",
        " model to also be accurate on the test set. \" However, there are some cases where this\n",
        " can go wrong \". For example, if we allow ourselves to build very complex models, we\n",
        " can always be as accurate as we like on the training set.\n",
        "- ***Overfitting***\n",
        " occurs when you fit a model too closely to the particularities of the training set and\n",
        " obtain a model that works well on the training set but is not able to generalize to new\n",
        " data.\n",
        "- Choosing\n",
        " too *simple a model* is called ***underfitting***\n",
        "\n",
        ">The more complex we allow our model to be, the better we will be able to predict on\n",
        " the training data. However, if our model becomes too complex, we start focusing too\n",
        " much on each individual data point in our training set, and the model will not gener\n",
        "alize well to new data.\n",
        "\n",
        "> There is a sweet spot in between that will yield the best generalization performance.\n",
        " This is the model we want to find.\n",
        "\n",
        "- Larger variety of data points your data\n",
        "set contains, the more complex a model you can use without overfitting. Usually, col\n",
        "lecting more data points will yield more variety, so larger datasets allow building\n",
        " more complex models."
      ],
      "metadata": {
        "id": "EeFpDBJgVy69"
      }
    },
    {
      "cell_type": "markdown",
      "source": [
        "- **NOTE** :Datasets that are included in scikit-learn are usually stored as\n",
        " Bunch objects, which contain some information about the dataset\n",
        " as well as the actual data. All you need to know about Bunch objects\n",
        " is that they behave like dictionaries, with the added benefit that you\n",
        " can access values using a dot (as in bunch.key instead of\n",
        " bunch['key'])."
      ],
      "metadata": {
        "id": "orq2f7I8cZxB"
      }
    },
    {
      "cell_type": "markdown",
      "source": [
        "### DATASETS THAT WE WILL USE"
      ],
      "metadata": {
        "id": "Ee-pbh9RgOUl"
      }
    },
    {
      "cell_type": "code",
      "execution_count": 2,
      "metadata": {
        "id": "T1rZMpiG0EX2",
        "colab": {
          "base_uri": "https://localhost:8080/"
        },
        "outputId": "d06b368e-704d-4b25-fefb-df8ac8663fea"
      },
      "outputs": [
        {
          "output_type": "execute_result",
          "data": {
            "text/plain": [
              "dict_keys(['data', 'target', 'frame', 'target_names', 'DESCR', 'feature_names', 'filename', 'data_module'])"
            ]
          },
          "metadata": {},
          "execution_count": 2
        }
      ],
      "source": [
        "from sklearn.datasets import load_breast_cancer\n",
        "cancer=load_breast_cancer()\n",
        "cancer.keys()"
      ]
    },
    {
      "cell_type": "code",
      "source": [],
      "metadata": {
        "id": "qPS-KYIwgidJ"
      },
      "execution_count": null,
      "outputs": []
    }
  ]
}
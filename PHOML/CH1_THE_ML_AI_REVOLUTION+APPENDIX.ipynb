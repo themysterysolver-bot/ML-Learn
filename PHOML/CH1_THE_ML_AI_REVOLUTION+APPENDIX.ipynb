{
  "nbformat": 4,
  "nbformat_minor": 0,
  "metadata": {
    "colab": {
      "provenance": [],
      "authorship_tag": "ABX9TyMpZLQnidmR1pdgSCKwY2VK",
      "include_colab_link": true
    },
    "kernelspec": {
      "name": "python3",
      "display_name": "Python 3"
    },
    "language_info": {
      "name": "python"
    }
  },
  "cells": [
    {
      "cell_type": "markdown",
      "metadata": {
        "id": "view-in-github",
        "colab_type": "text"
      },
      "source": [
        "<a href=\"https://colab.research.google.com/github/themysterysolver/ML-Learn/blob/main/PHOML/CH1_THE_ML_AI_REVOLUTION%2BAPPENDIX.ipynb\" target=\"_parent\"><img src=\"https://colab.research.google.com/assets/colab-badge.svg\" alt=\"Open In Colab\"/></a>"
      ]
    },
    {
      "cell_type": "markdown",
      "source": [
        "# THE ML/AI REVOLUTION"
      ],
      "metadata": {
        "id": "bBH17hEDzrF3"
      }
    },
    {
      "cell_type": "markdown",
      "source": [
        "- **NUMERICAL MODEL**:where eq used in making the model.\n",
        "- **RULE-BASED MODEL**:Rules are used to make the model.\n",
        "- A predictive system is better than rule-based system when lot of factors comin into play.\n",
        "- ML uses predictive model\n",
        "- ML algorithm are broadly divided into *supervised* and *unsupervised*.\n",
        "- SUPERVISED\n",
        "  - Regression\n",
        "  - Classification\n"
      ],
      "metadata": {
        "id": "wMV2QwY2z4KC"
      }
    },
    {
      "cell_type": "markdown",
      "source": [],
      "metadata": {
        "id": "DH9neBCA2Ztg"
      }
    }
  ]
}
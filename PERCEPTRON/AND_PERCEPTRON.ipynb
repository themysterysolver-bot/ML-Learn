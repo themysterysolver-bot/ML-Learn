{
  "nbformat": 4,
  "nbformat_minor": 0,
  "metadata": {
    "colab": {
      "provenance": [],
      "authorship_tag": "ABX9TyOMtEhnjdzjUb2iAAvjocSE",
      "include_colab_link": true
    },
    "kernelspec": {
      "name": "python3",
      "display_name": "Python 3"
    },
    "language_info": {
      "name": "python"
    }
  },
  "cells": [
    {
      "cell_type": "markdown",
      "metadata": {
        "id": "view-in-github",
        "colab_type": "text"
      },
      "source": [
        "<a href=\"https://colab.research.google.com/github/themysterysolver/ML-Learn/blob/main/PERCEPTRON/AND_PERCEPTRON.ipynb\" target=\"_parent\"><img src=\"https://colab.research.google.com/assets/colab-badge.svg\" alt=\"Open In Colab\"/></a>"
      ]
    },
    {
      "cell_type": "code",
      "execution_count": 1,
      "metadata": {
        "id": "x__0zZt2SKAz"
      },
      "outputs": [],
      "source": [
        "import numpy as np\n",
        "import random"
      ]
    },
    {
      "cell_type": "code",
      "source": [
        "def activation_function(z):\n",
        "  return 1 if z>=1 else 0"
      ],
      "metadata": {
        "id": "OmrQoLl9SOvd"
      },
      "execution_count": 2,
      "outputs": []
    },
    {
      "cell_type": "code",
      "source": [
        "def perceptron(weights,x1,x2,bias):\n",
        "  return activation_function(weights[0]*x1+weights[1]*x2+bias)"
      ],
      "metadata": {
        "id": "_kVOM4S6TUnG"
      },
      "execution_count": 4,
      "outputs": []
    },
    {
      "cell_type": "code",
      "source": [
        "X=np.array([[0,0],[0,1],[1,0],[1,1]])\n",
        "y=np.array([0,0,0,1])"
      ],
      "metadata": {
        "id": "h8E78k5OTo1t"
      },
      "execution_count": 5,
      "outputs": []
    },
    {
      "cell_type": "code",
      "source": [
        "weights=np.random.rand(2)-0.5\n",
        "bias=np.random.rand(1)-0.5\n",
        "epochs=1000\n",
        "lr=0.1\n",
        "for e in range(epochs):\n",
        "  for i in range(len(X)):\n",
        "    x1,x2=X[i]\n",
        "    y_pred=perceptron(weights,x1,x2,bias)\n",
        "    error=y[i]-y_pred\n",
        "    weights[0]+=error*lr*x1\n",
        "    weights[1]+=error*lr*x2\n",
        "    bias+=error*lr"
      ],
      "metadata": {
        "id": "UbcAj6xRUEal"
      },
      "execution_count": 7,
      "outputs": []
    },
    {
      "cell_type": "code",
      "source": [
        "for x1,x2 in X:\n",
        "  print(x1,x2,perceptron(weights,x1,x2,bias))\n"
      ],
      "metadata": {
        "colab": {
          "base_uri": "https://localhost:8080/"
        },
        "id": "UBIzt552VGbJ",
        "outputId": "4a0fdd0b-e5cf-4dc7-ad0f-b3da0f747acb"
      },
      "execution_count": 8,
      "outputs": [
        {
          "output_type": "stream",
          "name": "stdout",
          "text": [
            "0 0 0\n",
            "0 1 0\n",
            "1 0 0\n",
            "1 1 1\n"
          ]
        }
      ]
    },
    {
      "cell_type": "code",
      "source": [],
      "metadata": {
        "id": "ILuRmeUUVVdK"
      },
      "execution_count": null,
      "outputs": []
    }
  ]
}